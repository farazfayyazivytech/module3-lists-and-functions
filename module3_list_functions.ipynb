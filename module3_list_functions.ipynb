{
 "cells": [
  {
   "cell_type": "code",
   "execution_count": 21,
   "id": "f414d936-5911-4a93-b82b-682c134b2602",
   "metadata": {},
   "outputs": [
    {
     "data": {
      "text/plain": [
       "['MOZZARELLA', 'Cinderella']"
      ]
     },
     "execution_count": 21,
     "metadata": {},
     "output_type": "execute_result"
    }
   ],
   "source": [
    "# 7.4\n",
    "things = ['mozzarella', 'cinderella', 'salmonella']\n",
    "things\n",
    "# 7.5\n",
    "# Yes the element changed because a list is mutable\n",
    "things[1] = 'Cinderella'\n",
    "things\n",
    "# 7.6\n",
    "things[0] = 'MOZZARELLA'\n",
    "things\n",
    "\n",
    "#7.7\n",
    "del things[-1]\n",
    "things"
   ]
  },
  {
   "cell_type": "code",
   "execution_count": 22,
   "id": "08eb142d-6096-440e-b944-6cb2ccb0cb43",
   "metadata": {},
   "outputs": [
    {
     "data": {
      "text/plain": [
       "['Harry', 'Ron', 'Hermione']"
      ]
     },
     "execution_count": 22,
     "metadata": {},
     "output_type": "execute_result"
    }
   ],
   "source": [
    "# 9.1\n",
    "def good():\n",
    "    return ['Harry', 'Ron', 'Hermione']\n",
    "good()"
   ]
  },
  {
   "cell_type": "code",
   "execution_count": 37,
   "id": "71c43f1d-5f3a-4281-8f1b-3c39fa6ea579",
   "metadata": {},
   "outputs": [
    {
     "name": "stdout",
     "output_type": "stream",
     "text": [
      "5\n"
     ]
    },
    {
     "data": {
      "text/plain": [
       "[1, 3, 5, 7, 9]"
      ]
     },
     "execution_count": 37,
     "metadata": {},
     "output_type": "execute_result"
    }
   ],
   "source": [
    "# 9.2\n",
    "# I was confused by the wording of the challenge\n",
    "# I created a generator function \n",
    "def get_odds():\n",
    "    list_num = range(10) # range from 0-10\n",
    "    odd_num = [] # initialize empty list\n",
    "    for num in list_num: # for loop to find odd numbers in range\n",
    "        if num % 2 == 1: # if number is not divisible by 2, \n",
    "            odd_num.append(num) # append to odd_num list\n",
    "\n",
    "    for val in odd_num: # for loop to find 3rd number in odd numbers\n",
    "        if val == odd_num[2]: # if the element is the 3rd element in set,\n",
    "            print(val) # print the value\n",
    "            \n",
    "    return odd_num # return the list odd of numbers\n",
    "\n",
    "get_odds()"
   ]
  }
 ],
 "metadata": {
  "kernelspec": {
   "display_name": "Python 3 (ipykernel)",
   "language": "python",
   "name": "python3"
  },
  "language_info": {
   "codemirror_mode": {
    "name": "ipython",
    "version": 3
   },
   "file_extension": ".py",
   "mimetype": "text/x-python",
   "name": "python",
   "nbconvert_exporter": "python",
   "pygments_lexer": "ipython3",
   "version": "3.12.4"
  }
 },
 "nbformat": 4,
 "nbformat_minor": 5
}
