{
 "cells": [
  {
   "cell_type": "code",
   "execution_count": 21,
   "id": "f414d936-5911-4a93-b82b-682c134b2602",
   "metadata": {},
   "outputs": [
    {
     "data": {
      "text/plain": [
       "['MOZZARELLA', 'Cinderella']"
      ]
     },
     "execution_count": 21,
     "metadata": {},
     "output_type": "execute_result"
    }
   ],
   "source": [
    "# 7.4\n",
    "things = ['mozzarella', 'cinderella', 'salmonella']\n",
    "things\n",
    "# 7.5\n",
    "# Yes the element changed because a list is mutable\n",
    "things[1] = 'Cinderella'\n",
    "things\n",
    "# 7.6\n",
    "things[0] = 'MOZZARELLA'\n",
    "things\n",
    "\n",
    "#7.7\n",
    "del things[-1]\n",
    "things"
   ]
  },
  {
   "cell_type": "code",
   "execution_count": 22,
   "id": "08eb142d-6096-440e-b944-6cb2ccb0cb43",
   "metadata": {},
   "outputs": [
    {
     "data": {
      "text/plain": [
       "['Harry', 'Ron', 'Hermione']"
      ]
     },
     "execution_count": 22,
     "metadata": {},
     "output_type": "execute_result"
    }
   ],
   "source": [
    "# 9.1\n",
    "def good():\n",
    "    return ['Harry', 'Ron', 'Hermione']\n",
    "good()"
   ]
  },
  {
   "cell_type": "code",
   "execution_count": 13,
   "id": "0c74d2f4-4d3b-4e34-9aa5-ff5ae503e3f8",
   "metadata": {},
   "outputs": [
    {
     "name": "stdout",
     "output_type": "stream",
     "text": [
      "5\n"
     ]
    }
   ],
   "source": [
    "# 9.2\n",
    "# Generator function creates odd numbers from 1-10\n",
    "def get_odds(first=1, last=10, step=2):\n",
    "    number = first\n",
    "    while number < last:\n",
    "        yield number\n",
    "        number += step\n",
    "\n",
    "count = 1 #counter variable\n",
    "# for loop to iterate odd range\n",
    "for num in get_odds():\n",
    "    if count == 3:\n",
    "        print(num) #if on 3rd loop, print value and end loop\n",
    "        break\n",
    "    else:\n",
    "        count += 1 # otherwise increment the counter and continue"
   ]
  }
 ],
 "metadata": {
  "kernelspec": {
   "display_name": "Python 3 (ipykernel)",
   "language": "python",
   "name": "python3"
  },
  "language_info": {
   "codemirror_mode": {
    "name": "ipython",
    "version": 3
   },
   "file_extension": ".py",
   "mimetype": "text/x-python",
   "name": "python",
   "nbconvert_exporter": "python",
   "pygments_lexer": "ipython3",
   "version": "3.12.4"
  }
 },
 "nbformat": 4,
 "nbformat_minor": 5
}
